{
 "cells": [
  {
   "cell_type": "markdown",
   "id": "3d4f735d-294b-485a-994c-fc56278454dd",
   "metadata": {},
   "source": [
    "An,API,or Application Programing interface,is a set of rules that allows one software application to interact with another.It definesthe methods and data formats that application can use to request and exchange information.\n",
    "An example of API usage in real life is when a weather application on your smartphone pulls data from a weather service API to provide you with up to date weather information.The relevant information,enabling seamless integration between the weather serviceand the app"
   ]
  },
  {
   "cell_type": "markdown",
   "id": "75b48b3c-e3d6-4d15-8613-52c3dc3a6452",
   "metadata": {},
   "source": [
    "Advantage of using API:Application programming interfaces facilitate seamless integration between different software system,enabling efficent date exchange and functionality.This promotes innovation,accelerates development,and enhance user experiences\n",
    "\n",
    "Disadvantage of using API :API dependency can pose risk,as change in the API can break functionality for connected applications.Additonally,security concerns may arise if proper authentication and authorization meausures are not implemented potentially exposingh sensitive data to unauthorized access."
   ]
  },
  {
   "cell_type": "markdown",
   "id": "12a62c8c-da49-41cb-8acf-4ba30e301ef9",
   "metadata": {},
   "source": [
    "A web API(Application programming Interface) is a set of rules and tools for building software applications that communciate over the internet.it allows diffrent software systems to interact by defining how requests and responses should be structured.\n",
    "The main diffrence between APIand Web API lies in their scope and usage.API(Application Programming Interface)is a broader term that encompasses any set of protocols or tools that allows diffrent software applications to communicate.This can include APIs for operating systems,libaries,or even hardware.\n",
    "On the other hand,a web API specifically refers to APIs that are designed to be accessed over the web using the HTTP protocol.Web APIs are typically used for web development and enable communication between web servers and clients,allowing for the exchange of data and functionaity.\n",
    "In summary,while API is a genral term for interface enabling software communication,Web API specfically refers to APIs used over the  web,often employing HTTP for communication."
   ]
  },
  {
   "cell_type": "markdown",
   "id": "df861784-8acd-4cb9-b2ce-1c5d7d8c4777",
   "metadata": {},
   "source": [
    "It seems there might be a confusion in your question.The widely known architectural style for designing networked apllications is REST(Representational State Transfer),not SHOP. If you meant another term please clarify.\n",
    "REST is an architectural style that emphasizes a stateless client-server communication model,where each resource is uniquely identified by a URL(uniform resource identifier) and interactions are based on standard HTTP merhods(GET,POST,PUT,DELETE).RESTful systems atr known for their simplicity scalability and ease of integration"
   ]
  },
  {
   "cell_type": "markdown",
   "id": "42b22440-ccea-4170-b96b-b8e38a1fb9b0",
   "metadata": {},
   "source": [
    "REST(representional state transfer) SOAP(simple object access protocol) are two diffrent architectural styles for desigining web sevices.Here are key fifferentitors:"
   ]
  },
  {
   "cell_type": "markdown",
   "id": "fa46fa31-697e-4fb5-a777-eb4817b6106a",
   "metadata": {},
   "source": [
    "1.Protocol:\n",
    "* REST:typically uses HTTP protocol for communication.it relies on standard HTTP methods(GET,POST,PUT,DELETE)for operations\n",
    "* SOAP: uses a variety of protocols, including HTTP,SMTP and more.it has its own XML-based protocol for message formating"
   ]
  },
  {
   "cell_type": "markdown",
   "id": "758d89dd-c38d-4aea-996b-42c889dc82c2",
   "metadata": {},
   "source": [
    "2. Message Format:\n",
    "* REST:often uses lightweight data formats such as JSON or XML for message payloads.\n",
    "* soap:utilizes XML as its message format"
   ]
  },
  {
   "cell_type": "markdown",
   "id": "34e31c5b-79db-4e81-a727-90553b5cb989",
   "metadata": {},
   "source": [
    "3. Statefulness:\n",
    "* REST : stateless communication, meaning each request from a client to a server contains all the informatiom needed to understand to fulfill that request.\n",
    "* SOAP:can be stateful or stateless,depending on the implementation."
   ]
  },
  {
   "cell_type": "markdown",
   "id": "18620219-b172-4a61-a1aa-a70771002a49",
   "metadata": {},
   "source": [
    "4. Flexiblity:\n",
    "* REST: more flexible,suitable for a wide range of applications. it is commonly used in scenarios where simplicity and efficency are essentials.\n",
    "* SOAP: more rigid with a defined and strict specification.Often used in enterprise-level application with complex requirments."
   ]
  },
  {
   "cell_type": "markdown",
   "id": "cab807b8-c7d0-45c3-8161-cba2501d66e3",
   "metadata": {},
   "source": [
    "5. Ease of Use:\n",
    "* REST:generally consider easier to implement and understand,especially for simple scenrios.\n",
    "* SOAP:can be more complex due t"
   ]
  }
 ],
 "metadata": {
  "kernelspec": {
   "display_name": "Python 3 (ipykernel)",
   "language": "python",
   "name": "python3"
  },
  "language_info": {
   "codemirror_mode": {
    "name": "ipython",
    "version": 3
   },
   "file_extension": ".py",
   "mimetype": "text/x-python",
   "name": "python",
   "nbconvert_exporter": "python",
   "pygments_lexer": "ipython3",
   "version": "3.10.8"
  }
 },
 "nbformat": 4,
 "nbformat_minor": 5
}
